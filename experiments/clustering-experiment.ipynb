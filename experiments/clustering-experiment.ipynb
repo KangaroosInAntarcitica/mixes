{
 "cells": [
  {
   "cell_type": "markdown",
   "metadata": {
    "collapsed": true,
    "pycharm": {
     "name": "#%% md\n"
    }
   },
   "source": [
    "# Clustering experiment\n",
    "\n",
    "Dataset links:\n",
    "* [ecoli](https://archive.ics.uci.edu/ml/datasets/ecoli)\n",
    "* [olive](https://www.scss.tcd.ie/~arwhite/Teaching/STU33011/Lab4.html)\n",
    "* [satellite](https://archive.ics.uci.edu/ml/datasets/Statlog+(Landsat+Satellite))\n",
    "* [vehicle](https://archive.ics.uci.edu/ml/datasets/Statlog+(Vehicle+Silhouettes))\n",
    "* [berkeley](https://www2.eecs.berkeley.edu/Research/Projects/CS/vision/bsds/)"
   ]
  },
  {
   "cell_type": "code",
   "execution_count": 1,
   "outputs": [],
   "source": [
    "from mixes import GMN, DGMM, GMM, stopping_criterion\n",
    "from sklearn import preprocessing, datasets, cluster\n",
    "from sklearn.mixture import GaussianMixture\n",
    "from utils import *\n",
    "\n",
    "%load_ext autoreload\n",
    "%autoreload 2"
   ],
   "metadata": {
    "collapsed": false,
    "pycharm": {
     "name": "#%%\n"
    }
   }
  },
  {
   "cell_type": "markdown",
   "source": [
    "## Wine dataset\n",
    "(Num datapoints: `178`, num features: `13`, num clusters: `3`)"
   ],
   "metadata": {
    "collapsed": false,
    "pycharm": {
     "name": "#%% md\n"
    }
   },
   "execution_count": 14
  },
  {
   "cell_type": "code",
   "execution_count": 206,
   "outputs": [
    {
     "name": "stdout",
     "output_type": "stream",
     "text": [
      "Num datapoints: 178, num features: 13, num clusters: 3\n",
      "Alg KMeans run  10 /  10\n",
      "Alg GMM run  10 /  10\n",
      "Alg DGMM run  10 /  10\n",
      "Alg DGMM ann run  10 /  10\n",
      "Alg GMN run  10 /  10\n",
      "Alg GMN ann run  10 /  10\n"
     ]
    },
    {
     "data": {
      "text/plain": "               sil  sil best      m.r.  m.r. best       ari  ari best  \\\nKMeans    0.283272  0.284859  0.041573   0.033708  0.873413  0.897495   \nGMM       0.278107  0.278107  0.016854   0.016854  0.945885  0.945885   \nDGMM      0.278850  0.280492  0.007865   0.011236  0.975108  0.963651   \nDGMM ann  0.278271  0.279780  0.007865   0.000000  0.974955  1.000000   \nGMN       0.278381  0.280008  0.011798   0.016854  0.962416  0.948536   \nGMN ann   0.278640  0.279780  0.005618   0.000000  0.982537  1.000000   \n\n              log lik log lik best  \nKMeans              -            -  \nGMM      -2073.051599 -2073.051599  \nDGMM     -2307.503359 -2227.307357  \nDGMM ann -2283.907814 -2230.823199  \nGMN      -2282.672645 -2245.640753  \nGMN ann  -2298.617126 -2216.986327  ",
      "text/html": "<div>\n<style scoped>\n    .dataframe tbody tr th:only-of-type {\n        vertical-align: middle;\n    }\n\n    .dataframe tbody tr th {\n        vertical-align: top;\n    }\n\n    .dataframe thead th {\n        text-align: right;\n    }\n</style>\n<table border=\"1\" class=\"dataframe\">\n  <thead>\n    <tr style=\"text-align: right;\">\n      <th></th>\n      <th>sil</th>\n      <th>sil best</th>\n      <th>m.r.</th>\n      <th>m.r. best</th>\n      <th>ari</th>\n      <th>ari best</th>\n      <th>log lik</th>\n      <th>log lik best</th>\n    </tr>\n  </thead>\n  <tbody>\n    <tr>\n      <th>KMeans</th>\n      <td>0.283272</td>\n      <td>0.284859</td>\n      <td>0.041573</td>\n      <td>0.033708</td>\n      <td>0.873413</td>\n      <td>0.897495</td>\n      <td>-</td>\n      <td>-</td>\n    </tr>\n    <tr>\n      <th>GMM</th>\n      <td>0.278107</td>\n      <td>0.278107</td>\n      <td>0.016854</td>\n      <td>0.016854</td>\n      <td>0.945885</td>\n      <td>0.945885</td>\n      <td>-2073.051599</td>\n      <td>-2073.051599</td>\n    </tr>\n    <tr>\n      <th>DGMM</th>\n      <td>0.278850</td>\n      <td>0.280492</td>\n      <td>0.007865</td>\n      <td>0.011236</td>\n      <td>0.975108</td>\n      <td>0.963651</td>\n      <td>-2307.503359</td>\n      <td>-2227.307357</td>\n    </tr>\n    <tr>\n      <th>DGMM ann</th>\n      <td>0.278271</td>\n      <td>0.279780</td>\n      <td>0.007865</td>\n      <td>0.000000</td>\n      <td>0.974955</td>\n      <td>1.000000</td>\n      <td>-2283.907814</td>\n      <td>-2230.823199</td>\n    </tr>\n    <tr>\n      <th>GMN</th>\n      <td>0.278381</td>\n      <td>0.280008</td>\n      <td>0.011798</td>\n      <td>0.016854</td>\n      <td>0.962416</td>\n      <td>0.948536</td>\n      <td>-2282.672645</td>\n      <td>-2245.640753</td>\n    </tr>\n    <tr>\n      <th>GMN ann</th>\n      <td>0.278640</td>\n      <td>0.279780</td>\n      <td>0.005618</td>\n      <td>0.000000</td>\n      <td>0.982537</td>\n      <td>1.000000</td>\n      <td>-2298.617126</td>\n      <td>-2216.986327</td>\n    </tr>\n  </tbody>\n</table>\n</div>"
     },
     "execution_count": 206,
     "metadata": {},
     "output_type": "execute_result"
    }
   ],
   "source": [
    "wine_data, wine_labels = datasets.load_wine(return_X_y=True)\n",
    "wine_data = preprocessing.scale(wine_data)\n",
    "\n",
    "alg_functions = [\n",
    "    lambda e: cluster.KMeans(n_clusters=3, n_init=1, max_iter=100),\n",
    "    lambda e: GMM(3, init='kmeans',\n",
    "          update_rate=1,\n",
    "          num_iter=100, evaluator=e),\n",
    "    lambda e: DGMM([3, 1], [3, 2], init='kmeans',\n",
    "          update_rate=0.1, use_annealing=False,\n",
    "          num_iter=200, evaluator=e),\n",
    "    lambda e: DGMM([3, 1], [3, 2], init='kmeans',\n",
    "          update_rate=0.1, use_annealing=True, annealing_start_v=0.5,\n",
    "          num_iter=200, evaluator=e),\n",
    "    lambda e: GMN([3, 1], [3, 2], init='kmeans',\n",
    "          update_rate=0.1, use_annealing=False,\n",
    "          num_iter=200, evaluator=e),\n",
    "    lambda e: GMN([3, 1], [3, 2], init='kmeans',\n",
    "          update_rate=0.1, use_annealing=True, annealing_start_v=0.5,\n",
    "          num_iter=200, evaluator=e),\n",
    "]\n",
    "alg_names = [\"KMeans\", \"GMM\", \"DGMM\", \"DGMM ann\", \"GMN\", \"GMN ann\"]\n",
    "\n",
    "wine_result = test_algorithms_on_data(alg_functions, alg_names,\n",
    "                                      wine_data, wine_labels, num_repeats=10)\n",
    "wine_result"
   ],
   "metadata": {
    "collapsed": false,
    "pycharm": {
     "name": "#%%\n"
    }
   }
  },
  {
   "cell_type": "markdown",
   "source": [
    "## Ecoli dataset\n",
    "(Num datapoints: `336`, num features: `7`, num clusters: `8`)"
   ],
   "metadata": {
    "collapsed": false,
    "pycharm": {
     "name": "#%% md\n"
    }
   }
  },
  {
   "cell_type": "code",
   "execution_count": 208,
   "outputs": [
    {
     "name": "stdout",
     "output_type": "stream",
     "text": [
      "Num datapoints: 336, num features: 7, num clusters: 8\n",
      "Alg KMeans run  10 /  10\n",
      "Alg GMM run  10 /  10\n",
      "Alg DGMM run  10 /  10\n",
      "Alg DGMM ann run  10 /  10\n",
      "Alg GMN run  10 /  10\n",
      "Alg GMN ann run  10 /  10\n"
     ]
    },
    {
     "data": {
      "text/plain": "               sil  sil best      m.r.  m.r. best       ari  ari best  \\\nKMeans    0.271650  0.349556  0.335119   0.187500  0.528851  0.717215   \nGMM       0.200657  0.268006  0.239286   0.247024  0.653183  0.646588   \nDGMM      0.336975  0.350948  0.180952   0.172619  0.749611  0.770124   \nDGMM ann  0.334669  0.350032  0.190179   0.175595  0.734427  0.768221   \nGMN       0.347735  0.355547  0.173214   0.157738  0.764307  0.789363   \nGMN ann   0.335814  0.345483  0.187202   0.178571  0.736743  0.756000   \n\n             log lik log lik best  \nKMeans             -            -  \nGMM                -            -  \nDGMM       35.302275   122.020485  \nDGMM ann -177.752903  -136.358985  \nGMN       -74.111751     -2.14935  \nGMN ann  -274.026009   -233.98987  ",
      "text/html": "<div>\n<style scoped>\n    .dataframe tbody tr th:only-of-type {\n        vertical-align: middle;\n    }\n\n    .dataframe tbody tr th {\n        vertical-align: top;\n    }\n\n    .dataframe thead th {\n        text-align: right;\n    }\n</style>\n<table border=\"1\" class=\"dataframe\">\n  <thead>\n    <tr style=\"text-align: right;\">\n      <th></th>\n      <th>sil</th>\n      <th>sil best</th>\n      <th>m.r.</th>\n      <th>m.r. best</th>\n      <th>ari</th>\n      <th>ari best</th>\n      <th>log lik</th>\n      <th>log lik best</th>\n    </tr>\n  </thead>\n  <tbody>\n    <tr>\n      <th>KMeans</th>\n      <td>0.271650</td>\n      <td>0.349556</td>\n      <td>0.335119</td>\n      <td>0.187500</td>\n      <td>0.528851</td>\n      <td>0.717215</td>\n      <td>-</td>\n      <td>-</td>\n    </tr>\n    <tr>\n      <th>GMM</th>\n      <td>0.200657</td>\n      <td>0.268006</td>\n      <td>0.239286</td>\n      <td>0.247024</td>\n      <td>0.653183</td>\n      <td>0.646588</td>\n      <td>-</td>\n      <td>-</td>\n    </tr>\n    <tr>\n      <th>DGMM</th>\n      <td>0.336975</td>\n      <td>0.350948</td>\n      <td>0.180952</td>\n      <td>0.172619</td>\n      <td>0.749611</td>\n      <td>0.770124</td>\n      <td>35.302275</td>\n      <td>122.020485</td>\n    </tr>\n    <tr>\n      <th>DGMM ann</th>\n      <td>0.334669</td>\n      <td>0.350032</td>\n      <td>0.190179</td>\n      <td>0.175595</td>\n      <td>0.734427</td>\n      <td>0.768221</td>\n      <td>-177.752903</td>\n      <td>-136.358985</td>\n    </tr>\n    <tr>\n      <th>GMN</th>\n      <td>0.347735</td>\n      <td>0.355547</td>\n      <td>0.173214</td>\n      <td>0.157738</td>\n      <td>0.764307</td>\n      <td>0.789363</td>\n      <td>-74.111751</td>\n      <td>-2.14935</td>\n    </tr>\n    <tr>\n      <th>GMN ann</th>\n      <td>0.335814</td>\n      <td>0.345483</td>\n      <td>0.187202</td>\n      <td>0.178571</td>\n      <td>0.736743</td>\n      <td>0.756000</td>\n      <td>-274.026009</td>\n      <td>-233.98987</td>\n    </tr>\n  </tbody>\n</table>\n</div>"
     },
     "execution_count": 208,
     "metadata": {},
     "output_type": "execute_result"
    }
   ],
   "source": [
    "ecoli_data, ecoli_labels = load_ecoli()\n",
    "ecoli_data = preprocessing.scale(ecoli_data)\n",
    "\n",
    "alg_functions = [\n",
    "    lambda e: cluster.KMeans(n_clusters=8, n_init=1, max_iter=100),\n",
    "    lambda e: GaussianMixture(8, max_iter=100),\n",
    "    lambda e: DGMM([8, 4, 1], [6, 5, 4], init='kmeans',\n",
    "          update_rate=1e-3, use_annealing=False,\n",
    "          num_iter=200, evaluator=e, var_regularization=1e-10),\n",
    "    lambda e: DGMM([8, 4, 1], [6, 5, 4], init='kmeans',\n",
    "          update_rate=1e-3, use_annealing=True, annealing_start_v=0.7,\n",
    "          num_iter=200, evaluator=e, var_regularization=1e-10),\n",
    "    lambda e: GMN([8, 4, 1], [6, 5, 4], init='kmeans',\n",
    "          update_rate=1e-3, use_annealing=False,\n",
    "          num_iter=200, evaluator=e, var_regularization=1e-10),\n",
    "    lambda e: GMN([8, 4, 1], [6, 5, 4], init='kmeans',\n",
    "          update_rate=1e-3, use_annealing=True, annealing_start_v=0.7,\n",
    "          num_iter=200, evaluator=e, var_regularization=1e-10),\n",
    "]\n",
    "alg_names = [\"KMeans\", \"GMM\", \"DGMM\", \"DGMM ann\", \"GMN\", \"GMN ann\"]\n",
    "\n",
    "ecoli_result = test_algorithms_on_data(alg_functions, alg_names,\n",
    "                                      ecoli_data, ecoli_labels, num_repeats=10)\n",
    "ecoli_result"
   ],
   "metadata": {
    "collapsed": false,
    "pycharm": {
     "name": "#%%\n"
    }
   }
  },
  {
   "cell_type": "markdown",
   "source": [
    "# Satellite dataset\n",
    "(Num datapoints: `6435`, num features: `36`, num clusters: `6`)"
   ],
   "metadata": {
    "collapsed": false,
    "pycharm": {
     "name": "#%% md\n"
    }
   }
  },
  {
   "cell_type": "code",
   "execution_count": 204,
   "outputs": [
    {
     "name": "stdout",
     "output_type": "stream",
     "text": [
      "Num datapoints: 6435, num features: 36, num clusters: 6\n",
      "Alg KMeans run  10 /  10\n",
      "Alg GMM run  10 /  10\n",
      "Alg DGMM run  10 /  10\n",
      "Alg DGMM ann run  10 /  10\n",
      "Alg GMN run  10 /  10\n",
      "Alg GMN ann run  10 /  10\n"
     ]
    },
    {
     "data": {
      "text/plain": "               sil  sil best      m.r.  m.r. best       ari  ari best  \\\nKMeans    0.352098  0.352316  0.321197   0.321523  0.529934  0.529496   \nGMM       0.084326  0.086656  0.413302   0.405905  0.466858  0.467825   \nDGMM      0.235615  0.277924  0.282145   0.292308  0.571499  0.568355   \nDGMM ann  0.236024  0.259256  0.279611   0.280963  0.578266  0.573748   \nGMN       0.181137  0.200782  0.301445   0.326340  0.535684  0.489159   \nGMN ann   0.148977  0.207256  0.304848   0.219270  0.523701  0.630084   \n\n               log lik  log lik best  \nKMeans               -             -  \nGMM                  -             -  \nDGMM     -37147.434483 -34689.404335  \nDGMM ann -36394.537222 -32938.001466  \nGMN      -33000.603463 -31244.530441  \nGMN ann  -32625.665866 -30385.554444  ",
      "text/html": "<div>\n<style scoped>\n    .dataframe tbody tr th:only-of-type {\n        vertical-align: middle;\n    }\n\n    .dataframe tbody tr th {\n        vertical-align: top;\n    }\n\n    .dataframe thead th {\n        text-align: right;\n    }\n</style>\n<table border=\"1\" class=\"dataframe\">\n  <thead>\n    <tr style=\"text-align: right;\">\n      <th></th>\n      <th>sil</th>\n      <th>sil best</th>\n      <th>m.r.</th>\n      <th>m.r. best</th>\n      <th>ari</th>\n      <th>ari best</th>\n      <th>log lik</th>\n      <th>log lik best</th>\n    </tr>\n  </thead>\n  <tbody>\n    <tr>\n      <th>KMeans</th>\n      <td>0.352098</td>\n      <td>0.352316</td>\n      <td>0.321197</td>\n      <td>0.321523</td>\n      <td>0.529934</td>\n      <td>0.529496</td>\n      <td>-</td>\n      <td>-</td>\n    </tr>\n    <tr>\n      <th>GMM</th>\n      <td>0.084326</td>\n      <td>0.086656</td>\n      <td>0.413302</td>\n      <td>0.405905</td>\n      <td>0.466858</td>\n      <td>0.467825</td>\n      <td>-</td>\n      <td>-</td>\n    </tr>\n    <tr>\n      <th>DGMM</th>\n      <td>0.235615</td>\n      <td>0.277924</td>\n      <td>0.282145</td>\n      <td>0.292308</td>\n      <td>0.571499</td>\n      <td>0.568355</td>\n      <td>-37147.434483</td>\n      <td>-34689.404335</td>\n    </tr>\n    <tr>\n      <th>DGMM ann</th>\n      <td>0.236024</td>\n      <td>0.259256</td>\n      <td>0.279611</td>\n      <td>0.280963</td>\n      <td>0.578266</td>\n      <td>0.573748</td>\n      <td>-36394.537222</td>\n      <td>-32938.001466</td>\n    </tr>\n    <tr>\n      <th>GMN</th>\n      <td>0.181137</td>\n      <td>0.200782</td>\n      <td>0.301445</td>\n      <td>0.326340</td>\n      <td>0.535684</td>\n      <td>0.489159</td>\n      <td>-33000.603463</td>\n      <td>-31244.530441</td>\n    </tr>\n    <tr>\n      <th>GMN ann</th>\n      <td>0.148977</td>\n      <td>0.207256</td>\n      <td>0.304848</td>\n      <td>0.219270</td>\n      <td>0.523701</td>\n      <td>0.630084</td>\n      <td>-32625.665866</td>\n      <td>-30385.554444</td>\n    </tr>\n  </tbody>\n</table>\n</div>"
     },
     "execution_count": 204,
     "metadata": {},
     "output_type": "execute_result"
    }
   ],
   "source": [
    "satellite_data, satellite_labels = load_satellite()\n",
    "satellite_data = preprocessing.scale(satellite_data)\n",
    "stopping_crit=stopping_criterion.create_log_lik_criterion(1e-2)\n",
    "\n",
    "alg_functions = [\n",
    "    lambda e: cluster.KMeans(n_clusters=6, n_init=1, max_iter=100),\n",
    "    lambda e: GaussianMixture(6, max_iter=100),\n",
    "    lambda e: DGMM([6, 5, 1], [13, 5, 1], init='kmeans',\n",
    "          update_rate=0.1, use_annealing=False,\n",
    "          num_iter=100, evaluator=e, var_regularization=0.05,\n",
    "          stopping_criterion=stopping_crit),\n",
    "    lambda e: DGMM([6, 5, 1], [13, 5, 1], init='kmeans',\n",
    "          update_rate=0.1, use_annealing=True, annealing_start_v=0.5,\n",
    "          num_iter=100, evaluator=e, var_regularization=0.05,\n",
    "          stopping_criterion=stopping_crit),\n",
    "    lambda e: GMN([6, 5, 1], [13, 5, 1], init='kmeans',\n",
    "          update_rate=0.1, use_annealing=False,\n",
    "          num_iter=100, evaluator=e, var_regularization=0.05,\n",
    "          stopping_criterion=stopping_crit),\n",
    "    lambda e: GMN([6, 5, 1], [13, 5, 1], init='kmeans',\n",
    "          update_rate=0.1, use_annealing=True, annealing_start_v=0.5,\n",
    "          num_iter=100, evaluator=e, var_regularization=0.05,\n",
    "          stopping_criterion=stopping_crit),\n",
    "]\n",
    "alg_names = [\"KMeans\", \"GMM\", \"DGMM\", \"DGMM ann\", \"GMN\", \"GMN ann\"]\n",
    "\n",
    "satellite_result = test_algorithms_on_data(alg_functions, alg_names,\n",
    "                                           satellite_data, satellite_labels, num_repeats=10)\n",
    "satellite_result"
   ],
   "metadata": {
    "collapsed": false,
    "pycharm": {
     "name": "#%%\n"
    }
   }
  },
  {
   "cell_type": "markdown",
   "source": [
    "## Digits dataset\n",
    "(Num datapoints: `1797`, num features: `64`, num clusters: `10`)\n"
   ],
   "metadata": {
    "collapsed": false,
    "pycharm": {
     "name": "#%% md\n"
    }
   }
  },
  {
   "cell_type": "code",
   "execution_count": 150,
   "outputs": [
    {
     "name": "stdout",
     "output_type": "stream",
     "text": [
      "Num datapoints: 1797, num features: 64, num clusters: 10\n",
      "Alg KMeans run  10 /  10\n",
      "Alg GMM run  10 /  10\n",
      "Alg DGMM run   9 /  10"
     ]
    },
    {
     "name": "stderr",
     "output_type": "stream",
     "text": [
      "C:\\Users\\Andri\\Desktop\\Research\\DeepGMM\\mixes\\DGMM.py:325: RuntimeWarning: invalid value encountered in true_divide\n",
      "  exp_v /= denom\n",
      "C:\\Users\\Andri\\Desktop\\Research\\DeepGMM\\mixes\\DGMM.py:326: RuntimeWarning: invalid value encountered in true_divide\n",
      "  exp_vv /= denom\n",
      "C:\\Users\\Andri\\Desktop\\Research\\DeepGMM\\mixes\\DGMM.py:327: RuntimeWarning: invalid value encountered in true_divide\n",
      "  exp_w /= denom\n",
      "C:\\Users\\Andri\\Desktop\\Research\\DeepGMM\\mixes\\DGMM.py:328: RuntimeWarning: invalid value encountered in true_divide\n",
      "  exp_vw /= denom\n",
      "C:\\Users\\Andri\\Desktop\\Research\\DeepGMM\\mixes\\DGMM.py:329: RuntimeWarning: invalid value encountered in true_divide\n",
      "  exp_ww /= denom\n"
     ]
    },
    {
     "name": "stdout",
     "output_type": "stream",
     "text": [
      "Alg DGMM run  10 /  10\n",
      "Alg DGMM ann run  10 /  10\n",
      "Alg GMN run   2 /  10"
     ]
    },
    {
     "name": "stderr",
     "output_type": "stream",
     "text": [
      "C:\\Users\\Andri\\Desktop\\Research\\DeepGMM\\mixes\\GMN.py:527: RuntimeWarning: invalid value encountered in true_divide\n",
      "  exp_v /= denom\n",
      "C:\\Users\\Andri\\Desktop\\Research\\DeepGMM\\mixes\\GMN.py:528: RuntimeWarning: invalid value encountered in true_divide\n",
      "  exp_vv /= denom\n",
      "C:\\Users\\Andri\\Desktop\\Research\\DeepGMM\\mixes\\GMN.py:529: RuntimeWarning: invalid value encountered in true_divide\n",
      "  exp_w /= denom\n",
      "C:\\Users\\Andri\\Desktop\\Research\\DeepGMM\\mixes\\GMN.py:530: RuntimeWarning: invalid value encountered in true_divide\n",
      "  exp_vw /= denom\n",
      "C:\\Users\\Andri\\Desktop\\Research\\DeepGMM\\mixes\\GMN.py:531: RuntimeWarning: invalid value encountered in true_divide\n",
      "  exp_ww /= denom\n"
     ]
    },
    {
     "name": "stdout",
     "output_type": "stream",
     "text": [
      "Alg GMN run  10 /  10\n",
      "Alg GMN ann run  10 /  10\n"
     ]
    },
    {
     "data": {
      "text/plain": "               sil  sil best      m.r.  m.r. best       ari  ari best  \\\nKMeans    0.183710  0.188035  0.257596   0.300501  0.632725  0.589879   \nGMM       0.167104  0.182951  0.245075   0.214246  0.640889  0.693401   \nDGMM      0.174209  0.175810  0.185309   0.187535  0.698282  0.694344   \nDGMM ann  0.173633  0.174811  0.183027   0.184752  0.699174  0.696920   \nGMN       0.171386  0.172556  0.184975   0.185865  0.701635  0.701463   \nGMN ann   0.171167  0.171851  0.183417   0.183083  0.704480  0.707283   \n\n                log lik   log lik best  \nKMeans                -              -  \nGMM                   -              -  \nDGMM      -125913.98566 -121578.144908  \nDGMM ann -126293.674141 -124374.805845  \nGMN      -120121.258641 -119606.375907  \nGMN ann  -119781.096078 -119229.425226  ",
      "text/html": "<div>\n<style scoped>\n    .dataframe tbody tr th:only-of-type {\n        vertical-align: middle;\n    }\n\n    .dataframe tbody tr th {\n        vertical-align: top;\n    }\n\n    .dataframe thead th {\n        text-align: right;\n    }\n</style>\n<table border=\"1\" class=\"dataframe\">\n  <thead>\n    <tr style=\"text-align: right;\">\n      <th></th>\n      <th>sil</th>\n      <th>sil best</th>\n      <th>m.r.</th>\n      <th>m.r. best</th>\n      <th>ari</th>\n      <th>ari best</th>\n      <th>log lik</th>\n      <th>log lik best</th>\n    </tr>\n  </thead>\n  <tbody>\n    <tr>\n      <th>KMeans</th>\n      <td>0.183710</td>\n      <td>0.188035</td>\n      <td>0.257596</td>\n      <td>0.300501</td>\n      <td>0.632725</td>\n      <td>0.589879</td>\n      <td>-</td>\n      <td>-</td>\n    </tr>\n    <tr>\n      <th>GMM</th>\n      <td>0.167104</td>\n      <td>0.182951</td>\n      <td>0.245075</td>\n      <td>0.214246</td>\n      <td>0.640889</td>\n      <td>0.693401</td>\n      <td>-</td>\n      <td>-</td>\n    </tr>\n    <tr>\n      <th>DGMM</th>\n      <td>0.174209</td>\n      <td>0.175810</td>\n      <td>0.185309</td>\n      <td>0.187535</td>\n      <td>0.698282</td>\n      <td>0.694344</td>\n      <td>-125913.98566</td>\n      <td>-121578.144908</td>\n    </tr>\n    <tr>\n      <th>DGMM ann</th>\n      <td>0.173633</td>\n      <td>0.174811</td>\n      <td>0.183027</td>\n      <td>0.184752</td>\n      <td>0.699174</td>\n      <td>0.696920</td>\n      <td>-126293.674141</td>\n      <td>-124374.805845</td>\n    </tr>\n    <tr>\n      <th>GMN</th>\n      <td>0.171386</td>\n      <td>0.172556</td>\n      <td>0.184975</td>\n      <td>0.185865</td>\n      <td>0.701635</td>\n      <td>0.701463</td>\n      <td>-120121.258641</td>\n      <td>-119606.375907</td>\n    </tr>\n    <tr>\n      <th>GMN ann</th>\n      <td>0.171167</td>\n      <td>0.171851</td>\n      <td>0.183417</td>\n      <td>0.183083</td>\n      <td>0.704480</td>\n      <td>0.707283</td>\n      <td>-119781.096078</td>\n      <td>-119229.425226</td>\n    </tr>\n  </tbody>\n</table>\n</div>"
     },
     "execution_count": 150,
     "metadata": {},
     "output_type": "execute_result"
    }
   ],
   "source": [
    "digits_data, digits_labels = datasets.load_digits(return_X_y=True)\n",
    "stopping_crit=stopping_criterion.create_log_lik_criterion(0.05)\n",
    "\n",
    "alg_functions = [\n",
    "    lambda e: cluster.KMeans(n_clusters=10, n_init=1, max_iter=100),\n",
    "    lambda e: GaussianMixture(10, max_iter=100),\n",
    "    lambda e: DGMM([10, 5, 2], [10, 6, 2], init='kmeans',\n",
    "          update_rate=1, num_iter=100, evaluator=e,\n",
    "          var_regularization=2e-3, stopping_criterion=stopping_crit),\n",
    "    lambda e: DGMM([10, 5, 2], [10, 6, 2], init='kmeans',\n",
    "          update_rate=1, num_iter=100, evaluator=e,\n",
    "          use_annealing=True, annealing_start_v=0.5,\n",
    "          var_regularization=2e-3, stopping_criterion=stopping_crit),\n",
    "    lambda e: GMN([10, 5, 2], [10, 6, 2], init='kmeans',\n",
    "          update_rate=1, num_iter=100, evaluator=e,\n",
    "          var_regularization=2e-3, stopping_criterion=stopping_crit),\n",
    "    lambda e: GMN([10, 5, 2], [10, 6, 2], init='kmeans',\n",
    "          update_rate=1, num_iter=100, evaluator=e,\n",
    "          use_annealing=True, annealing_start_v=0.5,\n",
    "          var_regularization=2e-3, stopping_criterion=stopping_crit),\n",
    "]\n",
    "alg_names = [\"KMeans\", \"GMM\", \"DGMM\", \"DGMM ann\", \"GMN\", \"GMN ann\"]\n",
    "\n",
    "digits_result = test_algorithms_on_data(alg_functions, alg_names,\n",
    "                                        digits_data, digits_labels, num_repeats=10)\n",
    "digits_result"
   ],
   "metadata": {
    "collapsed": false,
    "pycharm": {
     "name": "#%%\n"
    }
   }
  },
  {
   "cell_type": "markdown",
   "source": [
    "# Vehicle dataset\n",
    "(Num datapoints: `846`, num features: `18`, num clusters: `4`)"
   ],
   "metadata": {
    "collapsed": false
   }
  },
  {
   "cell_type": "code",
   "execution_count": 199,
   "outputs": [
    {
     "name": "stdout",
     "output_type": "stream",
     "text": [
      "Num datapoints: 846, num features: 18, num clusters: 4\n",
      "Alg KMeans run  20 /  20\n",
      "Alg GMM run  20 /  20\n",
      "Alg DGMM ann run  16 /  20"
     ]
    },
    {
     "name": "stderr",
     "output_type": "stream",
     "text": [
      "C:\\Users\\Andri\\Desktop\\Research\\DeepGMM\\mixes\\DGMM.py:325: RuntimeWarning: invalid value encountered in true_divide\n",
      "  exp_v /= denom\n",
      "C:\\Users\\Andri\\Desktop\\Research\\DeepGMM\\mixes\\DGMM.py:326: RuntimeWarning: invalid value encountered in true_divide\n",
      "  exp_vv /= denom\n",
      "C:\\Users\\Andri\\Desktop\\Research\\DeepGMM\\mixes\\DGMM.py:327: RuntimeWarning: invalid value encountered in true_divide\n",
      "  exp_w /= denom\n",
      "C:\\Users\\Andri\\Desktop\\Research\\DeepGMM\\mixes\\DGMM.py:328: RuntimeWarning: invalid value encountered in true_divide\n",
      "  exp_vw /= denom\n",
      "C:\\Users\\Andri\\Desktop\\Research\\DeepGMM\\mixes\\DGMM.py:329: RuntimeWarning: invalid value encountered in true_divide\n",
      "  exp_ww /= denom\n"
     ]
    },
    {
     "name": "stdout",
     "output_type": "stream",
     "text": [
      "Alg DGMM ann run  20 /  20\n",
      "Alg GMN ann run   2 /  20"
     ]
    },
    {
     "name": "stderr",
     "output_type": "stream",
     "text": [
      "C:\\Users\\Andri\\Desktop\\Research\\DeepGMM\\mixes\\GMN.py:527: RuntimeWarning: invalid value encountered in true_divide\n",
      "  exp_v /= denom\n",
      "C:\\Users\\Andri\\Desktop\\Research\\DeepGMM\\mixes\\GMN.py:528: RuntimeWarning: invalid value encountered in true_divide\n",
      "  exp_vv /= denom\n",
      "C:\\Users\\Andri\\Desktop\\Research\\DeepGMM\\mixes\\GMN.py:529: RuntimeWarning: invalid value encountered in true_divide\n",
      "  exp_w /= denom\n",
      "C:\\Users\\Andri\\Desktop\\Research\\DeepGMM\\mixes\\GMN.py:530: RuntimeWarning: invalid value encountered in true_divide\n",
      "  exp_vw /= denom\n",
      "C:\\Users\\Andri\\Desktop\\Research\\DeepGMM\\mixes\\GMN.py:531: RuntimeWarning: invalid value encountered in true_divide\n",
      "  exp_ww /= denom\n"
     ]
    },
    {
     "name": "stdout",
     "output_type": "stream",
     "text": [
      "Alg GMN ann run   2 /  20"
     ]
    },
    {
     "name": "stderr",
     "output_type": "stream",
     "text": [
      "C:\\Users\\Andri\\Desktop\\Research\\DeepGMM\\mixes\\GMN.py:527: RuntimeWarning: invalid value encountered in true_divide\n",
      "  exp_v /= denom\n",
      "C:\\Users\\Andri\\Desktop\\Research\\DeepGMM\\mixes\\GMN.py:528: RuntimeWarning: invalid value encountered in true_divide\n",
      "  exp_vv /= denom\n",
      "C:\\Users\\Andri\\Desktop\\Research\\DeepGMM\\mixes\\GMN.py:529: RuntimeWarning: invalid value encountered in true_divide\n",
      "  exp_w /= denom\n",
      "C:\\Users\\Andri\\Desktop\\Research\\DeepGMM\\mixes\\GMN.py:530: RuntimeWarning: invalid value encountered in true_divide\n",
      "  exp_vw /= denom\n",
      "C:\\Users\\Andri\\Desktop\\Research\\DeepGMM\\mixes\\GMN.py:531: RuntimeWarning: invalid value encountered in true_divide\n",
      "  exp_ww /= denom\n"
     ]
    },
    {
     "name": "stdout",
     "output_type": "stream",
     "text": [
      "Alg GMN ann run   4 /  20"
     ]
    },
    {
     "name": "stderr",
     "output_type": "stream",
     "text": [
      "C:\\Users\\Andri\\Desktop\\Research\\DeepGMM\\mixes\\GMN.py:527: RuntimeWarning: invalid value encountered in true_divide\n",
      "  exp_v /= denom\n",
      "C:\\Users\\Andri\\Desktop\\Research\\DeepGMM\\mixes\\GMN.py:528: RuntimeWarning: invalid value encountered in true_divide\n",
      "  exp_vv /= denom\n",
      "C:\\Users\\Andri\\Desktop\\Research\\DeepGMM\\mixes\\GMN.py:529: RuntimeWarning: invalid value encountered in true_divide\n",
      "  exp_w /= denom\n",
      "C:\\Users\\Andri\\Desktop\\Research\\DeepGMM\\mixes\\GMN.py:530: RuntimeWarning: invalid value encountered in true_divide\n",
      "  exp_vw /= denom\n",
      "C:\\Users\\Andri\\Desktop\\Research\\DeepGMM\\mixes\\GMN.py:531: RuntimeWarning: invalid value encountered in true_divide\n",
      "  exp_ww /= denom\n"
     ]
    },
    {
     "name": "stdout",
     "output_type": "stream",
     "text": [
      "Alg GMN ann run   4 /  20"
     ]
    },
    {
     "name": "stderr",
     "output_type": "stream",
     "text": [
      "C:\\Users\\Andri\\Desktop\\Research\\DeepGMM\\mixes\\GMN.py:527: RuntimeWarning: invalid value encountered in true_divide\n",
      "  exp_v /= denom\n",
      "C:\\Users\\Andri\\Desktop\\Research\\DeepGMM\\mixes\\GMN.py:528: RuntimeWarning: invalid value encountered in true_divide\n",
      "  exp_vv /= denom\n",
      "C:\\Users\\Andri\\Desktop\\Research\\DeepGMM\\mixes\\GMN.py:529: RuntimeWarning: invalid value encountered in true_divide\n",
      "  exp_w /= denom\n",
      "C:\\Users\\Andri\\Desktop\\Research\\DeepGMM\\mixes\\GMN.py:530: RuntimeWarning: invalid value encountered in true_divide\n",
      "  exp_vw /= denom\n",
      "C:\\Users\\Andri\\Desktop\\Research\\DeepGMM\\mixes\\GMN.py:531: RuntimeWarning: invalid value encountered in true_divide\n",
      "  exp_ww /= denom\n"
     ]
    },
    {
     "name": "stdout",
     "output_type": "stream",
     "text": [
      "Alg GMN ann run   9 /  20"
     ]
    },
    {
     "name": "stderr",
     "output_type": "stream",
     "text": [
      "C:\\Users\\Andri\\Desktop\\Research\\DeepGMM\\mixes\\GMN.py:527: RuntimeWarning: invalid value encountered in true_divide\n",
      "  exp_v /= denom\n",
      "C:\\Users\\Andri\\Desktop\\Research\\DeepGMM\\mixes\\GMN.py:528: RuntimeWarning: invalid value encountered in true_divide\n",
      "  exp_vv /= denom\n",
      "C:\\Users\\Andri\\Desktop\\Research\\DeepGMM\\mixes\\GMN.py:529: RuntimeWarning: invalid value encountered in true_divide\n",
      "  exp_w /= denom\n",
      "C:\\Users\\Andri\\Desktop\\Research\\DeepGMM\\mixes\\GMN.py:530: RuntimeWarning: invalid value encountered in true_divide\n",
      "  exp_vw /= denom\n",
      "C:\\Users\\Andri\\Desktop\\Research\\DeepGMM\\mixes\\GMN.py:531: RuntimeWarning: invalid value encountered in true_divide\n",
      "  exp_ww /= denom\n"
     ]
    },
    {
     "name": "stdout",
     "output_type": "stream",
     "text": [
      "Alg GMN ann run  20 /  20\n"
     ]
    },
    {
     "data": {
      "text/plain": "               sil  sil best      m.r.  m.r. best       ari  ari best  \\\nKMeans    0.253870  0.305422  0.638416   0.641844  0.069479  0.076041   \nGMM       0.261065  0.287192  0.619031   0.602837  0.095354  0.091301   \nDGMM ann  0.185077  0.259449  0.599291   0.654846  0.108794  0.069609   \nGMN ann   0.192866  0.255594  0.585343   0.591017  0.129833  0.114005   \n\n              log lik log lik best  \nKMeans              -            -  \nGMM                 -            -  \nDGMM ann -3209.319502 -1599.871559  \nGMN ann  -2608.730137 -1289.025369  ",
      "text/html": "<div>\n<style scoped>\n    .dataframe tbody tr th:only-of-type {\n        vertical-align: middle;\n    }\n\n    .dataframe tbody tr th {\n        vertical-align: top;\n    }\n\n    .dataframe thead th {\n        text-align: right;\n    }\n</style>\n<table border=\"1\" class=\"dataframe\">\n  <thead>\n    <tr style=\"text-align: right;\">\n      <th></th>\n      <th>sil</th>\n      <th>sil best</th>\n      <th>m.r.</th>\n      <th>m.r. best</th>\n      <th>ari</th>\n      <th>ari best</th>\n      <th>log lik</th>\n      <th>log lik best</th>\n    </tr>\n  </thead>\n  <tbody>\n    <tr>\n      <th>KMeans</th>\n      <td>0.253870</td>\n      <td>0.305422</td>\n      <td>0.638416</td>\n      <td>0.641844</td>\n      <td>0.069479</td>\n      <td>0.076041</td>\n      <td>-</td>\n      <td>-</td>\n    </tr>\n    <tr>\n      <th>GMM</th>\n      <td>0.261065</td>\n      <td>0.287192</td>\n      <td>0.619031</td>\n      <td>0.602837</td>\n      <td>0.095354</td>\n      <td>0.091301</td>\n      <td>-</td>\n      <td>-</td>\n    </tr>\n    <tr>\n      <th>DGMM ann</th>\n      <td>0.185077</td>\n      <td>0.259449</td>\n      <td>0.599291</td>\n      <td>0.654846</td>\n      <td>0.108794</td>\n      <td>0.069609</td>\n      <td>-3209.319502</td>\n      <td>-1599.871559</td>\n    </tr>\n    <tr>\n      <th>GMN ann</th>\n      <td>0.192866</td>\n      <td>0.255594</td>\n      <td>0.585343</td>\n      <td>0.591017</td>\n      <td>0.129833</td>\n      <td>0.114005</td>\n      <td>-2608.730137</td>\n      <td>-1289.025369</td>\n    </tr>\n  </tbody>\n</table>\n</div>"
     },
     "execution_count": 199,
     "metadata": {},
     "output_type": "execute_result"
    }
   ],
   "source": [
    "vehicle_data, vehicle_labels = load_vehicle()\n",
    "vehicle_data = preprocessing.scale(vehicle_data)\n",
    "\n",
    "alg_functions = [\n",
    "    lambda e: cluster.KMeans(n_clusters=4, n_init=1, max_iter=100),\n",
    "    lambda e: GaussianMixture(4, max_iter=100),\n",
    "    lambda e: DGMM([4, 3, 2], [7, 3, 3], init='kmeans',\n",
    "          update_rate=0.1, use_annealing=True, annealing_start_v=0.5,\n",
    "          num_iter=200, evaluator=e, var_regularization=2e-6),\n",
    "    lambda e: GMN([4, 3, 2], [7, 3, 3], init='kmeans',\n",
    "          update_rate=0.1, use_annealing=True, annealing_start_v=0.5,\n",
    "          num_iter=200, evaluator=e, var_regularization=2e-6),\n",
    "]\n",
    "alg_names = [\"KMeans\", \"GMM\", \"DGMM ann\", \"GMN ann\"]\n",
    "assert len(alg_functions) == len(alg_names)\n",
    "\n",
    "vehicle_result = test_algorithms_on_data(alg_functions, alg_names,\n",
    "                                      vehicle_data, vehicle_labels, num_repeats=20)\n",
    "vehicle_result"
   ],
   "metadata": {
    "collapsed": false,
    "pycharm": {
     "name": "#%%\n"
    }
   }
  },
  {
   "cell_type": "code",
   "execution_count": null,
   "outputs": [],
   "source": [],
   "metadata": {
    "collapsed": false,
    "pycharm": {
     "name": "#%%\n"
    }
   }
  }
 ],
 "metadata": {
  "kernelspec": {
   "name": "local-venv",
   "language": "python",
   "display_name": "local-venv"
  },
  "language_info": {
   "codemirror_mode": {
    "name": "ipython",
    "version": 2
   },
   "file_extension": ".py",
   "mimetype": "text/x-python",
   "name": "python",
   "nbconvert_exporter": "python",
   "pygments_lexer": "ipython2",
   "version": "2.7.6"
  }
 },
 "nbformat": 4,
 "nbformat_minor": 0
}